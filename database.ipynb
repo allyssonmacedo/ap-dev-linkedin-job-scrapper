{
 "cells": [
  {
   "cell_type": "code",
   "execution_count": 12,
   "metadata": {},
   "outputs": [
    {
     "name": "stdout",
     "output_type": "stream",
     "text": [
      "Collecting Job Post 4/4\r"
     ]
    }
   ],
   "source": [
    "# Imports\n",
    "import re\n",
    "import time\n",
    "import json\n",
    "import requests\n",
    "import bs4\n",
    "import connectmongo\n",
    "from bs4 import BeautifulSoup as bs\n",
    "from functions import JobScrapping\n",
    "\n",
    "search = \"https://www.linkedin.com/jobs/search/?currentJobId=3745556301&keywords=data%20analyst&origin=SWITCH_SEARCH_VERTICAL\"\n",
    "\n",
    "jobs_url = JobScrapping().getJobsURL(search, max_jobs=5)\n",
    "\n",
    "soup_jobs = JobScrapping().getJobSoup(jobs_url)\n",
    "\n",
    "#print(JobScrapping().getJobAttr(soup_jobs[0]))"
   ]
  },
  {
   "cell_type": "code",
   "execution_count": 20,
   "metadata": {},
   "outputs": [
    {
     "data": {
      "text/plain": [
       "{'currentJobId': '3745556301',\n",
       " 'keywords': 'data analyst',\n",
       " 'origin': 'SWITCH_SEARCH_VERTICAL'}"
      ]
     },
     "execution_count": 20,
     "metadata": {},
     "output_type": "execute_result"
    }
   ],
   "source": [
    "from functions import JobScrapping\n",
    "\n",
    "JobScrapping().getSearchParameters(\"https://www.linkedin.com/jobs/search/?currentJobId=3745556301&keywords=data%20analyst&origin=SWITCH_SEARCH_VERTICAL\")"
   ]
  },
  {
   "cell_type": "code",
   "execution_count": 43,
   "metadata": {},
   "outputs": [],
   "source": [
    "\n",
    "import re\n",
    "import time\n",
    "import json\n",
    "import requests\n",
    "import bs4\n",
    "import connectmongo\n",
    "from bs4 import BeautifulSoup as bs\n",
    "from functions import JobScrapping"
   ]
  },
  {
   "cell_type": "code",
   "execution_count": 44,
   "metadata": {},
   "outputs": [
    {
     "ename": "TypeError",
     "evalue": "JobScrapping.getJobAttr() takes 2 positional arguments but 3 were given",
     "output_type": "error",
     "traceback": [
      "\u001b[1;31m---------------------------------------------------------------------------\u001b[0m",
      "\u001b[1;31mTypeError\u001b[0m                                 Traceback (most recent call last)",
      "\u001b[1;32md:\\Github\\Allysson\\linkedin-job-scrapper\\database.ipynb Cell 4\u001b[0m line \u001b[0;36m5\n\u001b[0;32m      <a href='vscode-notebook-cell:/d%3A/Github/Allysson/linkedin-job-scrapper/database.ipynb#W3sZmlsZQ%3D%3D?line=0'>1</a>\u001b[0m \u001b[39m# jobs_posts = []\u001b[39;00m\n\u001b[0;32m      <a href='vscode-notebook-cell:/d%3A/Github/Allysson/linkedin-job-scrapper/database.ipynb#W3sZmlsZQ%3D%3D?line=1'>2</a>\u001b[0m \u001b[39m# for job in range(len(soup_jobs)):\u001b[39;00m\n\u001b[0;32m      <a href='vscode-notebook-cell:/d%3A/Github/Allysson/linkedin-job-scrapper/database.ipynb#W3sZmlsZQ%3D%3D?line=2'>3</a>\u001b[0m \u001b[39m#     jobs_posts.append(JobScrapping().getJobPost(soup_jobs[job]))\u001b[39;00m\n\u001b[1;32m----> <a href='vscode-notebook-cell:/d%3A/Github/Allysson/linkedin-job-scrapper/database.ipynb#W3sZmlsZQ%3D%3D?line=4'>5</a>\u001b[0m JobScrapping()\u001b[39m.\u001b[39;49mgetJobPost(soup_jobs[\u001b[39m0\u001b[39;49m])\n",
      "File \u001b[1;32md:\\Github\\Allysson\\linkedin-job-scrapper\\functions.py:114\u001b[0m, in \u001b[0;36mJobScrapping.getJobPost\u001b[1;34m(self, soup_job)\u001b[0m\n\u001b[0;32m    112\u001b[0m \u001b[39mdef\u001b[39;00m \u001b[39mgetJobPost\u001b[39m(\u001b[39mself\u001b[39m, soup_job):\n\u001b[0;32m    113\u001b[0m     jobPost \u001b[39m=\u001b[39m {\n\u001b[1;32m--> 114\u001b[0m         \u001b[39m'\u001b[39m\u001b[39mattributes\u001b[39m\u001b[39m'\u001b[39m: \u001b[39mself\u001b[39;49m\u001b[39m.\u001b[39;49mgetJobAttr(\u001b[39mself\u001b[39;49m, soup_job),\n\u001b[0;32m    115\u001b[0m         \u001b[39m'\u001b[39m\u001b[39mmetadata\u001b[39m\u001b[39m'\u001b[39m: \u001b[39mself\u001b[39m\u001b[39m.\u001b[39mgetJobMetaData(\u001b[39mself\u001b[39m, soup_job),\n\u001b[0;32m    116\u001b[0m         \u001b[39m'\u001b[39m\u001b[39mfullDescription\u001b[39m\u001b[39m'\u001b[39m: \u001b[39mself\u001b[39m\u001b[39m.\u001b[39mgetFullJobDescription(\u001b[39mself\u001b[39m, soup_job)\n\u001b[0;32m    117\u001b[0m     }\n\u001b[0;32m    118\u001b[0m     \u001b[39mreturn\u001b[39;00m jobPost\n",
      "\u001b[1;31mTypeError\u001b[0m: JobScrapping.getJobAttr() takes 2 positional arguments but 3 were given"
     ]
    }
   ],
   "source": [
    "# jobs_posts = []\n",
    "# for job in range(len(soup_jobs)):\n",
    "#     jobs_posts.append(JobScrapping().getJobPost(soup_jobs[job]))\n",
    "\n",
    "JobScrapping().getJobPost(soup_jobs[0])\n"
   ]
  },
  {
   "cell_type": "code",
   "execution_count": null,
   "metadata": {},
   "outputs": [],
   "source": [
    "### Salvar os dados no banco.\n",
    "client = connectmongo.connectServer()\n",
    "\n",
    "db_connection = client['jobs-in']\n",
    "\n",
    "collection = db_connection.get_collection('jobs')\n",
    "\n",
    "data = collection.insert_many(jobs_posts)"
   ]
  }
 ],
 "metadata": {
  "kernelspec": {
   "display_name": "Python 3",
   "language": "python",
   "name": "python3"
  },
  "language_info": {
   "codemirror_mode": {
    "name": "ipython",
    "version": 3
   },
   "file_extension": ".py",
   "mimetype": "text/x-python",
   "name": "python",
   "nbconvert_exporter": "python",
   "pygments_lexer": "ipython3",
   "version": "3.12.0"
  }
 },
 "nbformat": 4,
 "nbformat_minor": 2
}
