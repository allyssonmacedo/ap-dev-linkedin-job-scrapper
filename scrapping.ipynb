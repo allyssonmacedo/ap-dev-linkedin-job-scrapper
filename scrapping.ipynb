{
 "cells": [
  {
   "cell_type": "code",
   "execution_count": null,
   "metadata": {},
   "outputs": [],
   "source": [
    "# # Seleção do que desejamos\n",
    "    # listsofA = soup.select(\".hoverinfo_trigger a\")\n",
    "    \n",
    "    # # Loop para extrair o atributo href da tag a\n",
    "    # for a in listsofA:\n",
    "    #     links.append(a.get(\"href\"))\n",
    "        \n",
    "    # # Abre o arquivo em disco\n",
    "    # file = open(f\"dados/AnimeLinks/animeLinks{limit}.txt\", \"w\")\n",
    "    \n",
    "    # # Loop para salvar em disco\n",
    "    # for link in links:\n",
    "    #     file.writelines(link+'\\n')\n",
    "        \n",
    "    # # Fecha o arquivo\n",
    "    # file.close()\n",
    "    \n",
    "    # # Sleep\n",
    "    # time.sleep(10)"
   ]
  },
  {
   "cell_type": "code",
   "execution_count": 2,
   "metadata": {},
   "outputs": [],
   "source": [
    "# Imports\n",
    "import re\n",
    "import bs4\n",
    "import time\n",
    "import json\n",
    "import requests\n",
    "from bs4 import BeautifulSoup as bs"
   ]
  },
  {
   "cell_type": "code",
   "execution_count": 113,
   "metadata": {},
   "outputs": [
    {
     "name": "stdout",
     "output_type": "stream",
     "text": [
      "200\n"
     ]
    }
   ],
   "source": [
    "# URL\n",
    "search = \"https://www.linkedin.com/jobs/search/?currentJobId=3743834990&keywords=data%20analyst&origin=SWITCH_SEARCH_VERTICAL\"\n",
    "\n",
    "jobs_list = []\n",
    "\n",
    "def getJobsURL(url_search: str , start_page: int = 0, num_pages: int = 1):\n",
    "        \n",
    "    for page in range(0, num_pages):\n",
    "\n",
    "        job_page = num_pages * 25\n",
    "\n",
    "        url = url_search + f'&start={job_page}'\n",
    "\n",
    "        # Request\n",
    "        rq = requests.get(url)\n",
    "        print(rq.status_code)\n",
    "\n",
    "        #Parse do html\n",
    "        soup = bs(rq.text, \"html.parser\")\n",
    "\n",
    "        list_href = soup.select('.base-card__full-link')\n",
    "\n",
    "        for i in range(len(list_href)):\n",
    "            jobs_list.append(list_href[i]['href'])\n",
    "\n",
    "    return jobs_list\n",
    "    \n",
    "jobs_list = getJobsURL(search)\n",
    "#print(soup.prettify())   "
   ]
  },
  {
   "cell_type": "code",
   "execution_count": null,
   "metadata": {},
   "outputs": [],
   "source": [
    "# Iterate over the jobsURL\n",
    "soup_jobs_list = []\n",
    "def getJobsInfo(url_search: str , start_page: int = 0, num_pages: int = 1):\n",
    "\n",
    "    jobs_list = getJobsURL(url_search = search, start_page = start_page, num_pages = num_pages)\n",
    "\n",
    "    for job in range(len(jobs_list)): \n",
    "        url = jobs_list[job]\n",
    "\n",
    "        # Request\n",
    "        rq = requests.get(url)\n",
    "        print(rq.status_code)\n",
    "\n",
    "        #Parse do html\n",
    "        soup_job = bs(rq.text, \"html.parser\")\n",
    "\n",
    "        soup_jobs_list.append(soup_job)\n",
    "    \n",
    "    return soup_jobs_list\n",
    "\n",
    "soup_list = getJobsInfo(search)\n",
    "soup_list"
   ]
  },
  {
   "cell_type": "code",
   "execution_count": 87,
   "metadata": {},
   "outputs": [],
   "source": [
    "url = jobs_list[2]\n",
    "\n",
    "# Request\n",
    "rq = requests.get(url)\n",
    "#print(rq.status_code)\n",
    "\n",
    "#print(rq.text)\n",
    "#Parse do html\n",
    "soup_job = bs(rq.text, \"html.parser\")"
   ]
  },
  {
   "cell_type": "code",
   "execution_count": 121,
   "metadata": {},
   "outputs": [
    {
     "data": {
      "text/plain": [
       "'\\n      {\"@context\":\"http://schema.org\",\"@type\":\"JobPosting\",\"datePosted\":\"2023-10-31T00:00:00.000Z\",\"description\":\"&lt;strong&gt;What We Strive For&lt;br&gt;&lt;br&gt;&lt;/strong&gt;Strive Health is built for purpose — to transform a broken kidney care system. We are fundamentally changing the lives of kidney disease patients through early identification, engagement and comprehensive coordinated care. Strive’s model is driven by a high-touch care team that integrates with local providers and spans the entire care journey from chronic kidney disease through end-stage kidney disease, leveraging comparative and predictive data and analytics to identify at-risk patients. Strive Health’s interventions significantly reduce the rate of emergent dialysis crash, cut inpatient utilization and significantly improve patient outcomes and experience. Come join our journey as we create THE destination for top talent in the healthcare community and set a new standard for how kidney care should be done.&lt;br&gt;&lt;br&gt;&lt;strong&gt;Why We’re Worth the Application&lt;/strong&gt;  &lt;br&gt;&lt;br&gt;&lt;ul&gt;&lt;li&gt;We Strive for excellence and were recognized as one of America’s Best Startup Employers for 2023 by Forbes, Circle of Excellence, American Society of Transplantation, 2023, Best Places to Work – Denver, Comparably.com, 2022, Best Places to Work – Denver, Built in Colorado, 2022&lt;/li&gt;&lt;li&gt;We derive innovation and ideas from through authentic diversity intentionally building a team that represents the populations we serve in partnership with our Employee Resource Groups:&lt;/li&gt;&lt;ul&gt;&lt;li&gt;Strive Forward - LGBTQ&lt;/li&gt;&lt;li&gt;Underrepresented Minorities&lt;/li&gt;&lt;li&gt;Women and Allies&lt;/li&gt;&lt;/ul&gt;&lt;li&gt;We care and support our Strivers within and beyond work to feel fully charged and empowered through our generous wellbeing offerings including:&lt;/li&gt;&lt;ul&gt;&lt;li&gt;Flexible time off&lt;/li&gt;&lt;li&gt;Companywide wellbeing days&lt;/li&gt;&lt;li&gt;Volunteer time off&lt;/li&gt;&lt;li&gt;Leave packages including a sabbatical, parental leave and eight weeks paid for living donor&lt;/li&gt;&lt;li&gt;Professional development&lt;/li&gt;&lt;li&gt;A dedicated certified financial planner&lt;/li&gt;&lt;li&gt;Headspace, Carrot Fertility and Gympass for all Strivers&lt;/li&gt;&lt;/ul&gt;&lt;li&gt;We like to have fun by celebrating our successes as a team through team building, company gatherings, trivia, wellbeing raffles, pajama days, a companywide book club and more.&lt;/li&gt;&lt;li&gt;We value tenacity to help us overcome obstacles with grit and determination to deliver compassionate kidney care.&lt;br&gt;&lt;br&gt;&lt;/li&gt;&lt;/ul&gt;&lt;strong&gt;Data Analyst (Partner Analytics)&lt;br&gt;&lt;br&gt;&lt;/strong&gt;The Data Analyst (Partner Analytics) is a highly visible role that will support key analytical initiatives for our stakeholders. You will be an early member of an experienced and passionate team and will play a key role in defining the future of the organization. The associate’s primary focus will be collaborating with your General Manager and other team members to understand complex business decisions and using data driven insights to advance operational and clinical performance. This position is also a key point of contact between the technology team and the client. From documenting new data requirements to ensuring data integrity, you oversee the data lifecycle from start to finish.&lt;br&gt;&lt;br&gt;&lt;strong&gt;Essential Functions&lt;br&gt;&lt;br&gt;&lt;/strong&gt;&lt;ul&gt;&lt;li&gt;Research, hypothesize and develop analytical approaches for identifying, analyzing, and interpreting trends or patterns in complex data sets, particularly in healthcare claims &amp;amp; lab data &lt;/li&gt;&lt;li&gt;Collaborate with team members from engineering, clinical, and operational functions to identify data driven opportunities to add value to existing and potential partners &lt;/li&gt;&lt;li&gt;Perform ad-hoc analysis for internal and external stakeholders &lt;/li&gt;&lt;li&gt;Utilize data visualization and storytelling techniques to clearly communicate outcomes and insights to executive and clinical leaders &lt;/li&gt;&lt;li&gt;Identify, communicate, and lead the resolution of data gaps that impede the fulfilment of operational reporting and oversight &lt;/li&gt;&lt;li&gt;Meet\\u202fin person\\u202fwith internal\\u202fand/or\\u202fexternal stakeholders to facilitate\\u202fteam and business\\u202fpriorities/opportunities.\\u202f\\u202f &lt;br&gt;&lt;br&gt;&lt;br&gt;&lt;/li&gt;&lt;/ul&gt;&lt;strong&gt;Minimum Qualifications&lt;br&gt;&lt;br&gt;&lt;/strong&gt;&lt;li&gt;Bachelor’s degree with strong academic achievement &lt;/li&gt;&lt;li&gt;1+ years’ experience; healthcare experience preferred &lt;/li&gt;&lt;li&gt;Business travel &lt;/li&gt;Internet Connectivity - Min Speeds: 3.8Mbps/3.0Mbps (up/down): Latency &lt;br&gt;&lt;br&gt;&lt;strong&gt;Preferred Qualifications&lt;br&gt;&lt;br&gt;&lt;/strong&gt;&lt;ul&gt;&lt;li&gt;Working knowledge of analyzing medical claims, labs, EMR and clinical data &lt;/li&gt;&lt;li&gt;Proficiency in Microsoft SQL, Excel &amp;amp; PowerPoint; AWS experience a plus &lt;/li&gt;&lt;li&gt;Entrepreneurial spirit that enjoys collaboration &lt;/li&gt;&lt;li&gt;Comfortable speaking and leading analytical discussions&lt;br&gt;&lt;br&gt;&lt;br&gt;&lt;/li&gt;&lt;/ul&gt;&lt;strong&gt;Annual Salary Range:&lt;/strong&gt; $63,600.00-$74,800.00&lt;br&gt;&lt;br&gt;Strive Health offers competitive compensation and benefits, including Health insurance, Dental insurance, Vision insurance, 401k Retirement Plan with Employer Match, Life and Accidental Death &amp;amp; Dismemberment insurance, Disability insurance, Health Savings Account, Flexible Spending Account, paid company holidays, in addition to Vacation Time Off. An annual performance bonus, determined by company and individual performance, is available for many roles as aligned to Strive Health guidelines.&lt;br&gt;&lt;br&gt;Strive Health is an equal opportunity employer and drug free workplace. At this time Strive Health is unable to provide work visa sponsorship. All qualified applicants will receive consideration for employment without regard to race, color, religion, sex, national origin, disability status, protected veteran status, or any other characteristic protected by law. Please apply even if you feel you do not meet all qualifications. If you require reasonable accommodation in completing this application, interviewing, completing any pre-employment testing, or otherwise participating in the employee selection process, please direct your inquiries to talentacquisition@strivehealth.com\",\"employmentType\":\"FULL_TIME\",\"hiringOrganization\":{\"@type\":\"Organization\",\"name\":\"Strive Health\",\"sameAs\":\"https://www.linkedin.com/company/strive-health\",\"logo\":\"https://media.licdn.com/dms/image/C4E0BAQGE5C9nBIaHSg/company-logo_200_200/0/1630608819440/strive_health_logo?e=2147483647&amp;v=beta&amp;t=qQC-x1EVW0FhVcXidg6wUiZAxsQaXE6-eYACO8PzrKY\"},\"identifier\":{\"@type\":\"PropertyValue\",\"name\":\"Strive Health\",\"value\":\"4296515006\"},\"image\":\"https://media.licdn.com/dms/image/C4E0BAQGE5C9nBIaHSg/company-logo_100_100/0/1630608819440/strive_health_logo?e=2147483647&amp;v=beta&amp;t=hJLM9a2XJ3Ig_DGjaa-HqztdssK8oOZn4NgcYQVllJs\",\"industry\":\"Hospitals and Health Care\",\"jobLocation\":{\"@type\":\"Place\",\"address\":{\"@type\":\"PostalAddress\",\"addressCountry\":\"US\",\"addressLocality\":\"Denver\",\"addressRegion\":\"CO\",\"streetAddress\":null},\"latitude\":39.738453,\"longitude\":-104.984856},\"skills\":\"\",\"title\":\"Data Analyst, Partner Analytics\",\"validThrough\":\"2023-11-30T22:38:38.000Z\",\"educationRequirements\":{\"@type\":\"EducationalOccupationalCredential\",\"credentialCategory\":\"bachelor degree\"},\"experienceRequirements\":{\"@type\":\"OccupationalExperienceRequirements\",\"monthsOfExperience\":12},\"baseSalary\":{\"@type\":\"MonetaryAmount\",\"currency\":\"USD\",\"value\":{\"@type\":\"QuantitativeValue\",\"minValue\":63600,\"maxValue\":74800,\"unitText\":\"YEAR\"}}}\\n    '"
      ]
     },
     "execution_count": 121,
     "metadata": {},
     "output_type": "execute_result"
    }
   ],
   "source": [
    "soup_list[0].find('script', attrs = {'type':'application/ld+json'}).text"
   ]
  },
  {
   "cell_type": "code",
   "execution_count": 160,
   "metadata": {},
   "outputs": [
    {
     "data": {
      "text/plain": [
       "{'@context': 'http://schema.org',\n",
       " '@type': 'JobPosting',\n",
       " 'datePosted': '2023-10-31T00:00:00.000Z',\n",
       " 'description': '&lt;strong&gt;What We Strive For&lt;br&gt;&lt;br&gt;&lt;/strong&gt;Strive Health is built for purpose — to transform a broken kidney care system. We are fundamentally changing the lives of kidney disease patients through early identification, engagement and comprehensive coordinated care. Strive’s model is driven by a high-touch care team that integrates with local providers and spans the entire care journey from chronic kidney disease through end-stage kidney disease, leveraging comparative and predictive data and analytics to identify at-risk patients. Strive Health’s interventions significantly reduce the rate of emergent dialysis crash, cut inpatient utilization and significantly improve patient outcomes and experience. Come join our journey as we create THE destination for top talent in the healthcare community and set a new standard for how kidney care should be done.&lt;br&gt;&lt;br&gt;&lt;strong&gt;Why We’re Worth the Application&lt;/strong&gt;  &lt;br&gt;&lt;br&gt;&lt;ul&gt;&lt;li&gt;We Strive for excellence and were recognized as one of America’s Best Startup Employers for 2023 by Forbes, Circle of Excellence, American Society of Transplantation, 2023, Best Places to Work – Denver, Comparably.com, 2022, Best Places to Work – Denver, Built in Colorado, 2022&lt;/li&gt;&lt;li&gt;We derive innovation and ideas from through authentic diversity intentionally building a team that represents the populations we serve in partnership with our Employee Resource Groups:&lt;/li&gt;&lt;ul&gt;&lt;li&gt;Strive Forward - LGBTQ&lt;/li&gt;&lt;li&gt;Underrepresented Minorities&lt;/li&gt;&lt;li&gt;Women and Allies&lt;/li&gt;&lt;/ul&gt;&lt;li&gt;We care and support our Strivers within and beyond work to feel fully charged and empowered through our generous wellbeing offerings including:&lt;/li&gt;&lt;ul&gt;&lt;li&gt;Flexible time off&lt;/li&gt;&lt;li&gt;Companywide wellbeing days&lt;/li&gt;&lt;li&gt;Volunteer time off&lt;/li&gt;&lt;li&gt;Leave packages including a sabbatical, parental leave and eight weeks paid for living donor&lt;/li&gt;&lt;li&gt;Professional development&lt;/li&gt;&lt;li&gt;A dedicated certified financial planner&lt;/li&gt;&lt;li&gt;Headspace, Carrot Fertility and Gympass for all Strivers&lt;/li&gt;&lt;/ul&gt;&lt;li&gt;We like to have fun by celebrating our successes as a team through team building, company gatherings, trivia, wellbeing raffles, pajama days, a companywide book club and more.&lt;/li&gt;&lt;li&gt;We value tenacity to help us overcome obstacles with grit and determination to deliver compassionate kidney care.&lt;br&gt;&lt;br&gt;&lt;/li&gt;&lt;/ul&gt;&lt;strong&gt;Data Analyst (Partner Analytics)&lt;br&gt;&lt;br&gt;&lt;/strong&gt;The Data Analyst (Partner Analytics) is a highly visible role that will support key analytical initiatives for our stakeholders. You will be an early member of an experienced and passionate team and will play a key role in defining the future of the organization. The associate’s primary focus will be collaborating with your General Manager and other team members to understand complex business decisions and using data driven insights to advance operational and clinical performance. This position is also a key point of contact between the technology team and the client. From documenting new data requirements to ensuring data integrity, you oversee the data lifecycle from start to finish.&lt;br&gt;&lt;br&gt;&lt;strong&gt;Essential Functions&lt;br&gt;&lt;br&gt;&lt;/strong&gt;&lt;ul&gt;&lt;li&gt;Research, hypothesize and develop analytical approaches for identifying, analyzing, and interpreting trends or patterns in complex data sets, particularly in healthcare claims &amp;amp; lab data &lt;/li&gt;&lt;li&gt;Collaborate with team members from engineering, clinical, and operational functions to identify data driven opportunities to add value to existing and potential partners &lt;/li&gt;&lt;li&gt;Perform ad-hoc analysis for internal and external stakeholders &lt;/li&gt;&lt;li&gt;Utilize data visualization and storytelling techniques to clearly communicate outcomes and insights to executive and clinical leaders &lt;/li&gt;&lt;li&gt;Identify, communicate, and lead the resolution of data gaps that impede the fulfilment of operational reporting and oversight &lt;/li&gt;&lt;li&gt;Meet\\u202fin person\\u202fwith internal\\u202fand/or\\u202fexternal stakeholders to facilitate\\u202fteam and business\\u202fpriorities/opportunities.\\u202f\\u202f &lt;br&gt;&lt;br&gt;&lt;br&gt;&lt;/li&gt;&lt;/ul&gt;&lt;strong&gt;Minimum Qualifications&lt;br&gt;&lt;br&gt;&lt;/strong&gt;&lt;li&gt;Bachelor’s degree with strong academic achievement &lt;/li&gt;&lt;li&gt;1+ years’ experience; healthcare experience preferred &lt;/li&gt;&lt;li&gt;Business travel &lt;/li&gt;Internet Connectivity - Min Speeds: 3.8Mbps/3.0Mbps (up/down): Latency &lt;br&gt;&lt;br&gt;&lt;strong&gt;Preferred Qualifications&lt;br&gt;&lt;br&gt;&lt;/strong&gt;&lt;ul&gt;&lt;li&gt;Working knowledge of analyzing medical claims, labs, EMR and clinical data &lt;/li&gt;&lt;li&gt;Proficiency in Microsoft SQL, Excel &amp;amp; PowerPoint; AWS experience a plus &lt;/li&gt;&lt;li&gt;Entrepreneurial spirit that enjoys collaboration &lt;/li&gt;&lt;li&gt;Comfortable speaking and leading analytical discussions&lt;br&gt;&lt;br&gt;&lt;br&gt;&lt;/li&gt;&lt;/ul&gt;&lt;strong&gt;Annual Salary Range:&lt;/strong&gt; $63,600.00-$74,800.00&lt;br&gt;&lt;br&gt;Strive Health offers competitive compensation and benefits, including Health insurance, Dental insurance, Vision insurance, 401k Retirement Plan with Employer Match, Life and Accidental Death &amp;amp; Dismemberment insurance, Disability insurance, Health Savings Account, Flexible Spending Account, paid company holidays, in addition to Vacation Time Off. An annual performance bonus, determined by company and individual performance, is available for many roles as aligned to Strive Health guidelines.&lt;br&gt;&lt;br&gt;Strive Health is an equal opportunity employer and drug free workplace. At this time Strive Health is unable to provide work visa sponsorship. All qualified applicants will receive consideration for employment without regard to race, color, religion, sex, national origin, disability status, protected veteran status, or any other characteristic protected by law. Please apply even if you feel you do not meet all qualifications. If you require reasonable accommodation in completing this application, interviewing, completing any pre-employment testing, or otherwise participating in the employee selection process, please direct your inquiries to talentacquisition@strivehealth.com',\n",
       " 'employmentType': 'FULL_TIME',\n",
       " 'hiringOrganization': {'@type': 'Organization',\n",
       "  'name': 'Strive Health',\n",
       "  'sameAs': 'https://www.linkedin.com/company/strive-health',\n",
       "  'logo': 'https://media.licdn.com/dms/image/C4E0BAQGE5C9nBIaHSg/company-logo_200_200/0/1630608819440/strive_health_logo?e=2147483647&amp;v=beta&amp;t=qQC-x1EVW0FhVcXidg6wUiZAxsQaXE6-eYACO8PzrKY'},\n",
       " 'identifier': {'@type': 'PropertyValue',\n",
       "  'name': 'Strive Health',\n",
       "  'value': '4296515006'},\n",
       " 'image': 'https://media.licdn.com/dms/image/C4E0BAQGE5C9nBIaHSg/company-logo_100_100/0/1630608819440/strive_health_logo?e=2147483647&amp;v=beta&amp;t=hJLM9a2XJ3Ig_DGjaa-HqztdssK8oOZn4NgcYQVllJs',\n",
       " 'industry': 'Hospitals and Health Care',\n",
       " 'jobLocation': {'@type': 'Place',\n",
       "  'address': {'@type': 'PostalAddress',\n",
       "   'addressCountry': 'US',\n",
       "   'addressLocality': 'Denver',\n",
       "   'addressRegion': 'CO',\n",
       "   'streetAddress': None},\n",
       "  'latitude': 39.738453,\n",
       "  'longitude': -104.984856},\n",
       " 'skills': '',\n",
       " 'title': 'Data Analyst, Partner Analytics',\n",
       " 'validThrough': '2023-11-30T22:38:38.000Z',\n",
       " 'educationRequirements': {'@type': 'EducationalOccupationalCredential',\n",
       "  'credentialCategory': 'bachelor degree'},\n",
       " 'experienceRequirements': {'@type': 'OccupationalExperienceRequirements',\n",
       "  'monthsOfExperience': 12},\n",
       " 'baseSalary': {'@type': 'MonetaryAmount',\n",
       "  'currency': 'USD',\n",
       "  'value': {'@type': 'QuantitativeValue',\n",
       "   'minValue': 63600,\n",
       "   'maxValue': 74800,\n",
       "   'unitText': 'YEAR'}}}"
      ]
     },
     "execution_count": 160,
     "metadata": {},
     "output_type": "execute_result"
    }
   ],
   "source": [
    "import json\n",
    "\n",
    "def getJobAttr(soup_job):\n",
    "\n",
    "    # String JSON\n",
    "    json_string = soup_job.find_all('script', attrs = {'type':'application/ld+json'})[0].text\n",
    "\n",
    "    # Convert a string JSON to Python Object\n",
    "    json_obj = json.loads(json_string)\n",
    "\n",
    "    # Now, the json is a Python dictionary\n",
    "    return json_obj\n",
    "\n",
    "getJobAttr(soup_list[0])"
   ]
  },
  {
   "cell_type": "code",
   "execution_count": 124,
   "metadata": {},
   "outputs": [
    {
     "data": {
      "text/plain": [
       "{'jobURL': 'https://www.linkedin.com/jobs/view/data-analyst-partner-analytics-at-strive-health-3751182198',\n",
       " 'jobTitle': 'Strive Health hiring Data Analyst, Partner Analytics in Denver, CO | LinkedIn',\n",
       " 'jobLocale': 'en_US',\n",
       " 'jobTimePosted': '12:00:00 AM',\n",
       " 'jobCompanyId': '33237712',\n",
       " 'jobIndustryId': '14'}"
      ]
     },
     "execution_count": 124,
     "metadata": {},
     "output_type": "execute_result"
    }
   ],
   "source": [
    "#### Metadados\n",
    "def getJobMetaData(soup_job):\n",
    "    postMetaData = {}\n",
    "\n",
    "    postMetaData['jobURL'] = soup_job.find_all('meta', attrs = {'property':'og:url'})[0]['content']\n",
    "    postMetaData['jobTitle'] = soup_job.find('title').text\n",
    "    postMetaData['jobLocale'] = soup_job.find_all('meta', attrs = {'name':'locale'})[0]['content']\n",
    "    postMetaData['jobTimePosted'] = ((soup_job.find_all('meta', attrs = {'name':'description'})[0]['content']).split('.')[0]).replace('Posted ', '')\n",
    "    postMetaData['jobCompanyId'] = soup_job.find_all('meta', attrs = {'name':'companyId'})[0]['content']\n",
    "    postMetaData['jobIndustryId'] = soup_job.find_all('meta', attrs = {'name':'industryIds'})[0]['content']\n",
    "    # postMetaData['jobDescription'] = soup_job.find_all('meta', attrs = {'name':'description'})[0]['content']\n",
    "\n",
    "    return postMetaData\n",
    "\n",
    "getJobMetaData(soup_list[0])"
   ]
  },
  {
   "cell_type": "code",
   "execution_count": 158,
   "metadata": {},
   "outputs": [
    {
     "data": {
      "text/plain": [
       "{'boldItens': ['What We Strive For',\n",
       "  'Why We’re Worth the Application',\n",
       "  'Data Analyst (Partner Analytics)',\n",
       "  'Essential Functions',\n",
       "  'Minimum Qualifications',\n",
       "  'Preferred Qualifications',\n",
       "  'Annual Salary Range:'],\n",
       " 'jobDescription': ' What We Strive ForStrive Health is built for purpose — to transform a broken kidney care system. We are fundamentally changing the lives of kidney disease patients through early identification, engagement and comprehensive coordinated care. Strive’s model is driven by a high-touch care team that integrates with local providers and spans the entire care journey from chronic kidney disease through end-stage kidney disease, leveraging comparative and predictive data and analytics to identify at-risk patients. Strive Health’s interventions significantly reduce the rate of emergent dialysis crash, cut inpatient utilization and significantly improve patient outcomes and experience. Come join our journey as we create THE destination for top talent in the healthcare community and set a new standard for how kidney care should be done.Why We’re Worth the Application We Strive for excellence and were recognized as one of America’s Best Startup Employers for 2023 by Forbes, Circle of Excellence, American Society of Transplantation, 2023, Best Places to Work – Denver, Comparably.com, 2022, Best Places to Work – Denver, Built in Colorado, 2022We derive innovation and ideas from through authentic diversity intentionally building a team that represents the populations we serve in partnership with our Employee Resource Groups:Strive Forward - LGBTQUnderrepresented MinoritiesWomen and AlliesWe care and support our Strivers within and beyond work to feel fully charged and empowered through our generous wellbeing offerings including:Flexible time offCompanywide wellbeing daysVolunteer time offLeave packages including a sabbatical, parental leave and eight weeks paid for living donorProfessional developmentA dedicated certified financial plannerHeadspace, Carrot Fertility and Gympass for all StriversWe like to have fun by celebrating our successes as a team through team building, company gatherings, trivia, wellbeing raffles, pajama days, a companywide book club and more.We value tenacity to help us overcome obstacles with grit and determination to deliver compassionate kidney care.Data Analyst (Partner Analytics)The Data Analyst (Partner Analytics) is a highly visible role that will support key analytical initiatives for our stakeholders. You will be an early member of an experienced and passionate team and will play a key role in defining the future of the organization. The associate’s primary focus will be collaborating with your General Manager and other team members to understand complex business decisions and using data driven insights to advance operational and clinical performance. This position is also a key point of contact between the technology team and the client. From documenting new data requirements to ensuring data integrity, you oversee the data lifecycle from start to finish.Essential FunctionsResearch, hypothesize and develop analytical approaches for identifying, analyzing, and interpreting trends or patterns in complex data sets, particularly in healthcare claims & lab data Collaborate with team members from engineering, clinical, and operational functions to identify data driven opportunities to add value to existing and potential partners Perform ad-hoc analysis for internal and external stakeholders Utilize data visualization and storytelling techniques to clearly communicate outcomes and insights to executive and clinical leaders Identify, communicate, and lead the resolution of data gaps that impede the fulfilment of operational reporting and oversight Meet\\u202fin person\\u202fwith internal\\u202fand/or\\u202fexternal stakeholders to facilitate\\u202fteam and business\\u202fpriorities/opportunities.\\u202f\\u202f Minimum QualificationsBachelor’s degree with strong academic achievement 1+ years’ experience; healthcare experience preferred Business travel Internet Connectivity - Min Speeds: 3.8Mbps/3.0Mbps (up/down): Latency Preferred QualificationsWorking knowledge of analyzing medical claims, labs, EMR and clinical data Proficiency in Microsoft SQL, Excel & PowerPoint; AWS experience a plus Entrepreneurial spirit that enjoys collaboration Comfortable speaking and leading analytical discussionsAnnual Salary Range: $63,600.00-$74,800.00Strive Health offers competitive compensation and benefits, including Health insurance, Dental insurance, Vision insurance, 401k Retirement Plan with Employer Match, Life and Accidental Death & Dismemberment insurance, Disability insurance, Health Savings Account, Flexible Spending Account, paid company holidays, in addition to Vacation Time Off. An annual performance bonus, determined by company and individual performance, is available for many roles as aligned to Strive Health guidelines.Strive Health is an equal opportunity employer and drug free workplace. At this time Strive Health is unable to provide work visa sponsorship. All qualified applicants will receive consideration for employment without regard to race, color, religion, sex, national origin, disability status, protected veteran status, or any other characteristic protected by law. Please apply even if you feel you do not meet all qualifications. If you require reasonable accommodation in completing this application, interviewing, completing any pre-employment testing, or otherwise participating in the employee selection process, please direct your inquiries to talentacquisition@strivehealth.com       '}"
      ]
     },
     "execution_count": 158,
     "metadata": {},
     "output_type": "execute_result"
    }
   ],
   "source": [
    "def getFullJobDescription(soup_job):\n",
    "\n",
    "    boldItens = []\n",
    "\n",
    "    for item in range(len(soup_job.select('.show-more-less-html__markup strong'))):\n",
    "        boldItens.append(soup_job.select('.show-more-less-html__markup strong')[item].text)\n",
    "\n",
    "    jobDescription = (soup_job.select('.show-more-less-html__markup')[0].text).replace('\\n', ' ')\n",
    "\n",
    "    fullDescription = {\n",
    "                        'boldItens': boldItens,\n",
    "                        'jobDescription': jobDescription\n",
    "                        }\n",
    "                        \n",
    "    return fullDescription\n",
    "\n",
    "getFullJobDescription(soup_list[0])"
   ]
  },
  {
   "cell_type": "code",
   "execution_count": 161,
   "metadata": {},
   "outputs": [
    {
     "data": {
      "text/plain": [
       "{'attributes': {'@context': 'http://schema.org',\n",
       "  '@type': 'JobPosting',\n",
       "  'datePosted': '2023-10-31T00:00:00.000Z',\n",
       "  'description': '&lt;strong&gt;What We Strive For&lt;br&gt;&lt;br&gt;&lt;/strong&gt;Strive Health is built for purpose — to transform a broken kidney care system. We are fundamentally changing the lives of kidney disease patients through early identification, engagement and comprehensive coordinated care. Strive’s model is driven by a high-touch care team that integrates with local providers and spans the entire care journey from chronic kidney disease through end-stage kidney disease, leveraging comparative and predictive data and analytics to identify at-risk patients. Strive Health’s interventions significantly reduce the rate of emergent dialysis crash, cut inpatient utilization and significantly improve patient outcomes and experience. Come join our journey as we create THE destination for top talent in the healthcare community and set a new standard for how kidney care should be done.&lt;br&gt;&lt;br&gt;&lt;strong&gt;Why We’re Worth the Application&lt;/strong&gt;  &lt;br&gt;&lt;br&gt;&lt;ul&gt;&lt;li&gt;We Strive for excellence and were recognized as one of America’s Best Startup Employers for 2023 by Forbes, Circle of Excellence, American Society of Transplantation, 2023, Best Places to Work – Denver, Comparably.com, 2022, Best Places to Work – Denver, Built in Colorado, 2022&lt;/li&gt;&lt;li&gt;We derive innovation and ideas from through authentic diversity intentionally building a team that represents the populations we serve in partnership with our Employee Resource Groups:&lt;/li&gt;&lt;ul&gt;&lt;li&gt;Strive Forward - LGBTQ&lt;/li&gt;&lt;li&gt;Underrepresented Minorities&lt;/li&gt;&lt;li&gt;Women and Allies&lt;/li&gt;&lt;/ul&gt;&lt;li&gt;We care and support our Strivers within and beyond work to feel fully charged and empowered through our generous wellbeing offerings including:&lt;/li&gt;&lt;ul&gt;&lt;li&gt;Flexible time off&lt;/li&gt;&lt;li&gt;Companywide wellbeing days&lt;/li&gt;&lt;li&gt;Volunteer time off&lt;/li&gt;&lt;li&gt;Leave packages including a sabbatical, parental leave and eight weeks paid for living donor&lt;/li&gt;&lt;li&gt;Professional development&lt;/li&gt;&lt;li&gt;A dedicated certified financial planner&lt;/li&gt;&lt;li&gt;Headspace, Carrot Fertility and Gympass for all Strivers&lt;/li&gt;&lt;/ul&gt;&lt;li&gt;We like to have fun by celebrating our successes as a team through team building, company gatherings, trivia, wellbeing raffles, pajama days, a companywide book club and more.&lt;/li&gt;&lt;li&gt;We value tenacity to help us overcome obstacles with grit and determination to deliver compassionate kidney care.&lt;br&gt;&lt;br&gt;&lt;/li&gt;&lt;/ul&gt;&lt;strong&gt;Data Analyst (Partner Analytics)&lt;br&gt;&lt;br&gt;&lt;/strong&gt;The Data Analyst (Partner Analytics) is a highly visible role that will support key analytical initiatives for our stakeholders. You will be an early member of an experienced and passionate team and will play a key role in defining the future of the organization. The associate’s primary focus will be collaborating with your General Manager and other team members to understand complex business decisions and using data driven insights to advance operational and clinical performance. This position is also a key point of contact between the technology team and the client. From documenting new data requirements to ensuring data integrity, you oversee the data lifecycle from start to finish.&lt;br&gt;&lt;br&gt;&lt;strong&gt;Essential Functions&lt;br&gt;&lt;br&gt;&lt;/strong&gt;&lt;ul&gt;&lt;li&gt;Research, hypothesize and develop analytical approaches for identifying, analyzing, and interpreting trends or patterns in complex data sets, particularly in healthcare claims &amp;amp; lab data &lt;/li&gt;&lt;li&gt;Collaborate with team members from engineering, clinical, and operational functions to identify data driven opportunities to add value to existing and potential partners &lt;/li&gt;&lt;li&gt;Perform ad-hoc analysis for internal and external stakeholders &lt;/li&gt;&lt;li&gt;Utilize data visualization and storytelling techniques to clearly communicate outcomes and insights to executive and clinical leaders &lt;/li&gt;&lt;li&gt;Identify, communicate, and lead the resolution of data gaps that impede the fulfilment of operational reporting and oversight &lt;/li&gt;&lt;li&gt;Meet\\u202fin person\\u202fwith internal\\u202fand/or\\u202fexternal stakeholders to facilitate\\u202fteam and business\\u202fpriorities/opportunities.\\u202f\\u202f &lt;br&gt;&lt;br&gt;&lt;br&gt;&lt;/li&gt;&lt;/ul&gt;&lt;strong&gt;Minimum Qualifications&lt;br&gt;&lt;br&gt;&lt;/strong&gt;&lt;li&gt;Bachelor’s degree with strong academic achievement &lt;/li&gt;&lt;li&gt;1+ years’ experience; healthcare experience preferred &lt;/li&gt;&lt;li&gt;Business travel &lt;/li&gt;Internet Connectivity - Min Speeds: 3.8Mbps/3.0Mbps (up/down): Latency &lt;br&gt;&lt;br&gt;&lt;strong&gt;Preferred Qualifications&lt;br&gt;&lt;br&gt;&lt;/strong&gt;&lt;ul&gt;&lt;li&gt;Working knowledge of analyzing medical claims, labs, EMR and clinical data &lt;/li&gt;&lt;li&gt;Proficiency in Microsoft SQL, Excel &amp;amp; PowerPoint; AWS experience a plus &lt;/li&gt;&lt;li&gt;Entrepreneurial spirit that enjoys collaboration &lt;/li&gt;&lt;li&gt;Comfortable speaking and leading analytical discussions&lt;br&gt;&lt;br&gt;&lt;br&gt;&lt;/li&gt;&lt;/ul&gt;&lt;strong&gt;Annual Salary Range:&lt;/strong&gt; $63,600.00-$74,800.00&lt;br&gt;&lt;br&gt;Strive Health offers competitive compensation and benefits, including Health insurance, Dental insurance, Vision insurance, 401k Retirement Plan with Employer Match, Life and Accidental Death &amp;amp; Dismemberment insurance, Disability insurance, Health Savings Account, Flexible Spending Account, paid company holidays, in addition to Vacation Time Off. An annual performance bonus, determined by company and individual performance, is available for many roles as aligned to Strive Health guidelines.&lt;br&gt;&lt;br&gt;Strive Health is an equal opportunity employer and drug free workplace. At this time Strive Health is unable to provide work visa sponsorship. All qualified applicants will receive consideration for employment without regard to race, color, religion, sex, national origin, disability status, protected veteran status, or any other characteristic protected by law. Please apply even if you feel you do not meet all qualifications. If you require reasonable accommodation in completing this application, interviewing, completing any pre-employment testing, or otherwise participating in the employee selection process, please direct your inquiries to talentacquisition@strivehealth.com',\n",
       "  'employmentType': 'FULL_TIME',\n",
       "  'hiringOrganization': {'@type': 'Organization',\n",
       "   'name': 'Strive Health',\n",
       "   'sameAs': 'https://www.linkedin.com/company/strive-health',\n",
       "   'logo': 'https://media.licdn.com/dms/image/C4E0BAQGE5C9nBIaHSg/company-logo_200_200/0/1630608819440/strive_health_logo?e=2147483647&amp;v=beta&amp;t=qQC-x1EVW0FhVcXidg6wUiZAxsQaXE6-eYACO8PzrKY'},\n",
       "  'identifier': {'@type': 'PropertyValue',\n",
       "   'name': 'Strive Health',\n",
       "   'value': '4296515006'},\n",
       "  'image': 'https://media.licdn.com/dms/image/C4E0BAQGE5C9nBIaHSg/company-logo_100_100/0/1630608819440/strive_health_logo?e=2147483647&amp;v=beta&amp;t=hJLM9a2XJ3Ig_DGjaa-HqztdssK8oOZn4NgcYQVllJs',\n",
       "  'industry': 'Hospitals and Health Care',\n",
       "  'jobLocation': {'@type': 'Place',\n",
       "   'address': {'@type': 'PostalAddress',\n",
       "    'addressCountry': 'US',\n",
       "    'addressLocality': 'Denver',\n",
       "    'addressRegion': 'CO',\n",
       "    'streetAddress': None},\n",
       "   'latitude': 39.738453,\n",
       "   'longitude': -104.984856},\n",
       "  'skills': '',\n",
       "  'title': 'Data Analyst, Partner Analytics',\n",
       "  'validThrough': '2023-11-30T22:38:38.000Z',\n",
       "  'educationRequirements': {'@type': 'EducationalOccupationalCredential',\n",
       "   'credentialCategory': 'bachelor degree'},\n",
       "  'experienceRequirements': {'@type': 'OccupationalExperienceRequirements',\n",
       "   'monthsOfExperience': 12},\n",
       "  'baseSalary': {'@type': 'MonetaryAmount',\n",
       "   'currency': 'USD',\n",
       "   'value': {'@type': 'QuantitativeValue',\n",
       "    'minValue': 63600,\n",
       "    'maxValue': 74800,\n",
       "    'unitText': 'YEAR'}}},\n",
       " 'metadata': {'jobURL': 'https://www.linkedin.com/jobs/view/data-analyst-partner-analytics-at-strive-health-3751182198',\n",
       "  'jobTitle': 'Strive Health hiring Data Analyst, Partner Analytics in Denver, CO | LinkedIn',\n",
       "  'jobLocale': 'en_US',\n",
       "  'jobTimePosted': '12:00:00 AM',\n",
       "  'jobCompanyId': '33237712',\n",
       "  'jobIndustryId': '14'},\n",
       " 'fullDescription': {'boldItens': ['What We Strive For',\n",
       "   'Why We’re Worth the Application',\n",
       "   'Data Analyst (Partner Analytics)',\n",
       "   'Essential Functions',\n",
       "   'Minimum Qualifications',\n",
       "   'Preferred Qualifications',\n",
       "   'Annual Salary Range:'],\n",
       "  'jobDescription': ' What We Strive ForStrive Health is built for purpose — to transform a broken kidney care system. We are fundamentally changing the lives of kidney disease patients through early identification, engagement and comprehensive coordinated care. Strive’s model is driven by a high-touch care team that integrates with local providers and spans the entire care journey from chronic kidney disease through end-stage kidney disease, leveraging comparative and predictive data and analytics to identify at-risk patients. Strive Health’s interventions significantly reduce the rate of emergent dialysis crash, cut inpatient utilization and significantly improve patient outcomes and experience. Come join our journey as we create THE destination for top talent in the healthcare community and set a new standard for how kidney care should be done.Why We’re Worth the Application We Strive for excellence and were recognized as one of America’s Best Startup Employers for 2023 by Forbes, Circle of Excellence, American Society of Transplantation, 2023, Best Places to Work – Denver, Comparably.com, 2022, Best Places to Work – Denver, Built in Colorado, 2022We derive innovation and ideas from through authentic diversity intentionally building a team that represents the populations we serve in partnership with our Employee Resource Groups:Strive Forward - LGBTQUnderrepresented MinoritiesWomen and AlliesWe care and support our Strivers within and beyond work to feel fully charged and empowered through our generous wellbeing offerings including:Flexible time offCompanywide wellbeing daysVolunteer time offLeave packages including a sabbatical, parental leave and eight weeks paid for living donorProfessional developmentA dedicated certified financial plannerHeadspace, Carrot Fertility and Gympass for all StriversWe like to have fun by celebrating our successes as a team through team building, company gatherings, trivia, wellbeing raffles, pajama days, a companywide book club and more.We value tenacity to help us overcome obstacles with grit and determination to deliver compassionate kidney care.Data Analyst (Partner Analytics)The Data Analyst (Partner Analytics) is a highly visible role that will support key analytical initiatives for our stakeholders. You will be an early member of an experienced and passionate team and will play a key role in defining the future of the organization. The associate’s primary focus will be collaborating with your General Manager and other team members to understand complex business decisions and using data driven insights to advance operational and clinical performance. This position is also a key point of contact between the technology team and the client. From documenting new data requirements to ensuring data integrity, you oversee the data lifecycle from start to finish.Essential FunctionsResearch, hypothesize and develop analytical approaches for identifying, analyzing, and interpreting trends or patterns in complex data sets, particularly in healthcare claims & lab data Collaborate with team members from engineering, clinical, and operational functions to identify data driven opportunities to add value to existing and potential partners Perform ad-hoc analysis for internal and external stakeholders Utilize data visualization and storytelling techniques to clearly communicate outcomes and insights to executive and clinical leaders Identify, communicate, and lead the resolution of data gaps that impede the fulfilment of operational reporting and oversight Meet\\u202fin person\\u202fwith internal\\u202fand/or\\u202fexternal stakeholders to facilitate\\u202fteam and business\\u202fpriorities/opportunities.\\u202f\\u202f Minimum QualificationsBachelor’s degree with strong academic achievement 1+ years’ experience; healthcare experience preferred Business travel Internet Connectivity - Min Speeds: 3.8Mbps/3.0Mbps (up/down): Latency Preferred QualificationsWorking knowledge of analyzing medical claims, labs, EMR and clinical data Proficiency in Microsoft SQL, Excel & PowerPoint; AWS experience a plus Entrepreneurial spirit that enjoys collaboration Comfortable speaking and leading analytical discussionsAnnual Salary Range: $63,600.00-$74,800.00Strive Health offers competitive compensation and benefits, including Health insurance, Dental insurance, Vision insurance, 401k Retirement Plan with Employer Match, Life and Accidental Death & Dismemberment insurance, Disability insurance, Health Savings Account, Flexible Spending Account, paid company holidays, in addition to Vacation Time Off. An annual performance bonus, determined by company and individual performance, is available for many roles as aligned to Strive Health guidelines.Strive Health is an equal opportunity employer and drug free workplace. At this time Strive Health is unable to provide work visa sponsorship. All qualified applicants will receive consideration for employment without regard to race, color, religion, sex, national origin, disability status, protected veteran status, or any other characteristic protected by law. Please apply even if you feel you do not meet all qualifications. If you require reasonable accommodation in completing this application, interviewing, completing any pre-employment testing, or otherwise participating in the employee selection process, please direct your inquiries to talentacquisition@strivehealth.com       '}}"
      ]
     },
     "execution_count": 161,
     "metadata": {},
     "output_type": "execute_result"
    }
   ],
   "source": [
    "def getJobPost(soup_job):\n",
    "    jobPost = {\n",
    "        'attributes': getJobAttr(soup_job),\n",
    "        'metadata': getJobMetaData(soup_job),\n",
    "        'fullDescription': getFullJobDescription(soup_job)\n",
    "    }\n",
    "    return jobPost\n",
    "\n",
    "getJobPost(soup_list[0])"
   ]
  },
  {
   "cell_type": "code",
   "execution_count": 15,
   "metadata": {},
   "outputs": [
    {
     "name": "stdout",
     "output_type": "stream",
     "text": [
      "-------- tópicos do job-----------\n",
      "['Job Description', 'FOIA Jr. Data AnalystEssential Job Functions: ', 'Skills:', 'Qualifications:', 'IFAS is an Equal Opportunity/Affirmative Action employer. All qualified applicants will receive consideration for employment without regard to race, color, religion, sex, sexual orientation, gender identity, national origin, disability, or veteran status, or any other protected class.', 'Company Description']\n",
      "-----------------------------------\n",
      "-------- descrição do job-----------\n",
      "dictionary\n",
      "{'Job Description': [], 'FOIA Jr. Data AnalystEssential Job Functions: ': ['The FOIA Junior Data Analyst scope entails supporting our clients with onsite records analysis and administrative support for its Freedom of Information Act (FOIA) operations. Our client receives a large number of FOIA/Privacy act requests annually. We need administrative support to facilitate the reduction of the FOIA and Privacy Act (PA) requests and referrals backlog and processing of current incoming requests. This consists of receipt, entry, distribution, and tracking of incoming FOIA/PA requests; generation of reports; correspondence; cataloging (electronic/paper); retrieving and distribution of incoming/outgoing mail; performing record searches of fingerprint cards and reviewing documents and identifying redactions. In addition, this also includes scanning of documents to the shared drive/SharePoint, entry of responses in the FOIA electronic systems, and filing/archiving records as directed.'], 'Skills:': ['Experience performing initial document reviews. Experience performing reconciliations between the records of the systems as needed. Perform record searches in IDENT using fingerprint cards submitted with FOIA request. Continuously maintain organized records and reports of workflow in compliance with Department standards. Scanning FOIA/Privacy Act requests into FOIAXpress or the Shared drive/SharePoint for processing by the FOIA analysts. Experience with data entry and assisting in correspondence preparation services in support of OBIM responses to FOIA and Privacy Act requests/referrals, which result in closure. Experience organizing, preparing, and taking final action of electronic and physical FOIA Intake receipts. Experiencing providing document retrieval, management, cataloging, and archiving support associated with FOIA/Privacy Act requests and referrals records. '], 'Qualifications:': ['High School DiplomaAdministrative skills that support FOIA OperationsAbility to receive an EOD (Entry of Duty) decision and pass Security Background Investigation in its entiretyMust be U.S. Citizen'], 'IFAS is an Equal Opportunity/Affirmative Action employer. All qualified applicants will receive consideration for employment without regard to race, color, religion, sex, sexual orientation, gender identity, national origin, disability, or veteran status, or any other protected class.': [], 'Company Description': [\"Integrated Finance and Accounting Solutions (IFAS) is a service-disabled veteran, woman owned small disadvantaged business firm that applies integrated finance and accounting solutions to every engagement to help clients build sustain, and maintain a profitable business model. We do this with a corporate commitment to provide on time service that is mission focused and results driven. It is our true belief that finding the right solutions to your business' mission makes doing business less challenging. IFAS' core capabilities include business & Finance operations, IT Support Services, Acquisition and logistics support.\", 'We are an equal opportunity employer.', \"Integrated Finance and Accounting Solutions (IFAS) is a service-disabled veteran, woman owned small disadvantaged business firm that applies integrated finance and accounting solutions to every engagement to help clients build sustain, and maintain a profitable business model. We do this with a corporate commitment to provide on time service that is mission focused and results driven. It is our true belief that finding the right solutions to your business' mission makes doing business less challenging. IFAS' core capabilities include business & Finance operations, IT Support Services, Acquisition and logistics support. We are an equal opportunity employer.\\n      \"]}\n",
      "['\\n', <strong>Job Description<br/><br/></strong>, <strong>FOIA Jr. Data Analyst<br/><br/>Essential Job Functions: <br/><br/></strong>, 'The FOIA Junior Data Analyst scope entails supporting our clients with onsite records analysis and administrative support for its Freedom of Information Act (FOIA) operations. Our client receives a large number of FOIA/Privacy act requests annually. We need administrative support to facilitate the reduction of the FOIA and Privacy Act (PA) requests and referrals backlog and processing of current incoming requests. This consists of receipt, entry, distribution, and tracking of incoming FOIA/PA requests; generation of reports; correspondence; cataloging (electronic/paper); retrieving and distribution of incoming/outgoing mail; performing record searches of fingerprint cards and reviewing documents and identifying redactions. In addition, this also includes scanning of documents to the shared drive/SharePoint, entry of responses in the FOIA electronic systems, and filing/archiving records as directed.', <br/>, <br/>, <strong>Skills:<br/><br/></strong>, <ul><li>Experience performing initial document reviews. </li><li>Experience performing reconciliations between the records of the systems as needed. </li><li>Perform record searches in IDENT using fingerprint cards submitted with FOIA request. </li><li>Continuously maintain organized records and reports of workflow in compliance with Department standards. </li><li>Scanning FOIA/Privacy Act requests into FOIAXpress or the Shared drive/SharePoint for processing by the FOIA analysts. </li><li>Experience with data entry and assisting in correspondence preparation services in support of OBIM responses to FOIA and Privacy Act requests/referrals, which result in closure. </li><li>Experience organizing, preparing, and taking final action of electronic and physical FOIA Intake receipts. </li><li>Experiencing providing document retrieval, management, cataloging, and archiving support associated with FOIA/Privacy Act requests and referrals records. <br/><br/></li></ul>, <strong>Qualifications:<br/><br/></strong>, <ul><li>High School Diploma</li><li>Administrative skills that support FOIA Operations</li><li>Ability to receive an EOD (Entry of Duty) decision and pass Security Background Investigation in its entirety</li><li>Must be U.S. Citizen<br/><br/></li></ul>, <strong>IFAS is an Equal Opportunity/Affirmative Action employer. All qualified applicants will receive consideration for employment without regard to race, color, religion, sex, sexual orientation, gender identity, national origin, disability, or veteran status, or any other protected class.<br/><br/></strong>, <strong>Company Description<br/><br/></strong>, \"Integrated Finance and Accounting Solutions (IFAS) is a service-disabled veteran, woman owned small disadvantaged business firm that applies integrated finance and accounting solutions to every engagement to help clients build sustain, and maintain a profitable business model. We do this with a corporate commitment to provide on time service that is mission focused and results driven. It is our true belief that finding the right solutions to your business' mission makes doing business less challenging. IFAS' core capabilities include business & Finance operations, IT Support Services, Acquisition and logistics support.\", <br/>, <br/>, 'We are an equal opportunity employer.', <br/>, <br/>, \"Integrated Finance and Accounting Solutions (IFAS) is a service-disabled veteran, woman owned small disadvantaged business firm that applies integrated finance and accounting solutions to every engagement to help clients build sustain, and maintain a profitable business model. We do this with a corporate commitment to provide on time service that is mission focused and results driven. It is our true belief that finding the right solutions to your business' mission makes doing business less challenging. IFAS' core capabilities include business & Finance operations, IT Support Services, Acquisition and logistics support. We are an equal opportunity employer.\\n      \"]\n"
     ]
    }
   ],
   "source": [
    "soup_jobs_topics = soup_job.select('.show-more-less-html__markup strong')\n",
    "# [<strong>About Nevro<br/><br/></strong>,\n",
    "#  <strong>Job Summary &amp; Responsibilities<br/><br/></strong>,\n",
    "#  <strong>Essential Duties And Responsibilities<br/><br/></strong>,\n",
    "#  <strong>Role Requirements<br/><br/></strong>,\n",
    "#  <strong>Skills And Knowledge<br/><br/></strong>,\n",
    "#  <strong> Target Pay Range <br/><br/></strong>,\n",
    "#  <strong> EEO Statement <br/><br/></strong>]\n",
    "\n",
    "# topics_jobs = soup_job.select('.show-more-less-html strong')\n",
    "# # [<strong>About Nevro<br/><br/></strong>,\n",
    "# #  <strong>Job Summary &amp; Responsibilities<br/><br/></strong>,\n",
    "# #  <strong>Essential Duties And Responsibilities<br/><br/></strong>,\n",
    "# #  <strong>Role Requirements<br/><br/></strong>,\n",
    "# #  <strong>Skills And Knowledge<br/><br/></strong>,\n",
    "# #  <strong> Target Pay Range <br/><br/></strong>,\n",
    "# #  <strong> EEO Statement <br/><br/></strong>]\n",
    "\n",
    "list_jobs_topics = []\n",
    "\n",
    "print('-------- tópicos do job-----------')\n",
    "for i in range(len(soup_jobs_topics)):\n",
    "    if soup_jobs_topics[i].text != '':\n",
    "        list_jobs_topics.append(soup_jobs_topics[i].text)\n",
    "\n",
    "print(list_jobs_topics)\n",
    "print('-----------------------------------')\n",
    "\n",
    "print('-------- descrição do job-----------')\n",
    "soup_job_description = soup_job.select('.show-more-less-html__markup')[0].contents\n",
    "\n",
    "# ['\\n',\n",
    "#  <strong>About Nevro<br/><br/></strong>,\n",
    "#  'Nevro (NYSE: NVRO) is a global medical device company headquartered in Redwood City, California. We are focused on delivering comprehensive, life-changing solutions that continue to set the standard for enduring patient outcomes in chronic pain treatment. The company started with a simple mission to help more patients suffering from debilitating pain and developed its proprietary 10 kHz Therapy™, an evidence-based, non-pharmacologic innovation that has impacted the lives of more than 100,000 patients globally.',\n",
    "#  <br/>,\n",
    "#  <br/>,\n",
    "#  \"Nevro’s comprehensive HFX™ spinal cord stimulation (SCS) platform includes a Senza SCS system and support services for the treatment of chronic trunk and limb pain and painful diabetic neuropathy. Senza®, Senza II®, Senza Omnia™, and Senza HFX iQ™ are the only SCS systems that deliver Nevro's proprietary 10 kHz Therapy. HFX iQ, Nevro’s latest innovation, is the first and only SCS System that uses Artificial Intelligence to optimize and maintain pain relief using each patient's response 1 .Nevro’s unique support services provide every patient with an HFX Coach™ throughout their pain relief journey and every physician with HFX Cloud™ insights for enhanced patient and practice management.\",\n",
    "#  <br/>,\n",
    "#  <br/>,\n",
    "#  <strong>Job Summary &amp; Responsibilities<br/><br/></strong>,\n",
    "#  'Nevro is seeking a Data Analyst who will be responsible for turning data into information, to provide insight into data trends to assist in making business decisions. This role will also support various ad-hoc projects.',\n",
    "#  <br/>,\n",
    "#  .........\n",
    "\n",
    "test = {}\n",
    "\n",
    "print('dictionary')\n",
    "c = 0\n",
    "\n",
    "\n",
    "for i in range(len(soup_job_description)):\n",
    "    if soup_job_description[i].text in list_jobs_topics:\n",
    "       # list_topics.append(soup_job_description[i].text)\n",
    "        currently_list = str(soup_job_description[i].text)\n",
    "        test[str(currently_list)] = []\n",
    "        c = 1\n",
    "    \n",
    "    elif c != 0:\n",
    "        if soup_job_description[i].text not in list_jobs_topics:\n",
    "            if soup_job_description[i].text not in ['', '\\n']:\n",
    "                test[str(currently_list)].append(soup_job_description[i].text)\n",
    "\n",
    "print(test)\n",
    "print(soup_job_description)\n",
    "# topics_jobs = soup_job.select('.show-more-less-html strong')"
   ]
  },
  {
   "cell_type": "code",
   "execution_count": 125,
   "metadata": {},
   "outputs": [
    {
     "data": {
      "text/plain": [
       "['\\n',\n",
       " <strong>What We Strive For<br/><br/></strong>,\n",
       " 'Strive Health is built for purpose — to transform a broken kidney care system. We are fundamentally changing the lives of kidney disease patients through early identification, engagement and comprehensive coordinated care. Strive’s model is driven by a high-touch care team that integrates with local providers and spans the entire care journey from chronic kidney disease through end-stage kidney disease, leveraging comparative and predictive data and analytics to identify at-risk patients. Strive Health’s interventions significantly reduce the rate of emergent dialysis crash, cut inpatient utilization and significantly improve patient outcomes and experience. Come join our journey as we create THE destination for top talent in the healthcare community and set a new standard for how kidney care should be done.',\n",
       " <br/>,\n",
       " <br/>,\n",
       " <strong>Why We’re Worth the Application</strong>,\n",
       " ' ',\n",
       " <br/>,\n",
       " <br/>,\n",
       " <ul><li>We Strive for excellence and were recognized as one of America’s Best Startup Employers for 2023 by Forbes, Circle of Excellence, American Society of Transplantation, 2023, Best Places to Work – Denver, Comparably.com, 2022, Best Places to Work – Denver, Built in Colorado, 2022</li><li>We derive innovation and ideas from through authentic diversity intentionally building a team that represents the populations we serve in partnership with our Employee Resource Groups:</li><ul><li>Strive Forward - LGBTQ</li><li>Underrepresented Minorities</li><li>Women and Allies</li></ul><li>We care and support our Strivers within and beyond work to feel fully charged and empowered through our generous wellbeing offerings including:</li><ul><li>Flexible time off</li><li>Companywide wellbeing days</li><li>Volunteer time off</li><li>Leave packages including a sabbatical, parental leave and eight weeks paid for living donor</li><li>Professional development</li><li>A dedicated certified financial planner</li><li>Headspace, Carrot Fertility and Gympass for all Strivers</li></ul><li>We like to have fun by celebrating our successes as a team through team building, company gatherings, trivia, wellbeing raffles, pajama days, a companywide book club and more.</li><li>We value tenacity to help us overcome obstacles with grit and determination to deliver compassionate kidney care.<br/><br/></li></ul>,\n",
       " <strong>Data Analyst (Partner Analytics)<br/><br/></strong>,\n",
       " 'The Data Analyst (Partner Analytics) is a highly visible role that will support key analytical initiatives for our stakeholders. You will be an early member of an experienced and passionate team and will play a key role in defining the future of the organization. The associate’s primary focus will be collaborating with your General Manager and other team members to understand complex business decisions and using data driven insights to advance operational and clinical performance. This position is also a key point of contact between the technology team and the client. From documenting new data requirements to ensuring data integrity, you oversee the data lifecycle from start to finish.',\n",
       " <br/>,\n",
       " <br/>,\n",
       " <strong>Essential Functions<br/><br/></strong>,\n",
       " <ul><li>Research, hypothesize and develop analytical approaches for identifying, analyzing, and interpreting trends or patterns in complex data sets, particularly in healthcare claims &amp; lab data </li><li>Collaborate with team members from engineering, clinical, and operational functions to identify data driven opportunities to add value to existing and potential partners </li><li>Perform ad-hoc analysis for internal and external stakeholders </li><li>Utilize data visualization and storytelling techniques to clearly communicate outcomes and insights to executive and clinical leaders </li><li>Identify, communicate, and lead the resolution of data gaps that impede the fulfilment of operational reporting and oversight </li><li>Meet in person with internal and/or external stakeholders to facilitate team and business priorities/opportunities.   <br/><br/><br/></li></ul>,\n",
       " <strong>Minimum Qualifications<br/><br/></strong>,\n",
       " <li>Bachelor’s degree with strong academic achievement </li>,\n",
       " <li>1+ years’ experience; healthcare experience preferred </li>,\n",
       " <li>Business travel </li>,\n",
       " 'Internet Connectivity - Min Speeds: 3.8Mbps/3.0Mbps (up/down): Latency ',\n",
       " <br/>,\n",
       " <br/>,\n",
       " <strong>Preferred Qualifications<br/><br/></strong>,\n",
       " <ul><li>Working knowledge of analyzing medical claims, labs, EMR and clinical data </li><li>Proficiency in Microsoft SQL, Excel &amp; PowerPoint; AWS experience a plus </li><li>Entrepreneurial spirit that enjoys collaboration </li><li>Comfortable speaking and leading analytical discussions<br/><br/><br/></li></ul>,\n",
       " <strong>Annual Salary Range:</strong>,\n",
       " ' $63,600.00-$74,800.00',\n",
       " <br/>,\n",
       " <br/>,\n",
       " 'Strive Health offers competitive compensation and benefits, including Health insurance, Dental insurance, Vision insurance, 401k Retirement Plan with Employer Match, Life and Accidental Death & Dismemberment insurance, Disability insurance, Health Savings Account, Flexible Spending Account, paid company holidays, in addition to Vacation Time Off. An annual performance bonus, determined by company and individual performance, is available for many roles as aligned to Strive Health guidelines.',\n",
       " <br/>,\n",
       " <br/>,\n",
       " 'Strive Health is an equal opportunity employer and drug free workplace. At this time Strive Health is unable to provide work visa sponsorship. All qualified applicants will receive consideration for employment without regard to race, color, religion, sex, national origin, disability status, protected veteran status, or any other characteristic protected by law. Please apply even if you feel you do not meet all qualifications. If you require reasonable accommodation in completing this application, interviewing, completing any pre-employment testing, or otherwise participating in the employee selection process, please direct your inquiries to talentacquisition@strivehealth.com\\n      ']"
      ]
     },
     "execution_count": 125,
     "metadata": {},
     "output_type": "execute_result"
    }
   ],
   "source": [
    "soup_list[0].select('.show-more-less-html__markup')[0].contents."
   ]
  }
 ],
 "metadata": {
  "kernelspec": {
   "display_name": "Python 3",
   "language": "python",
   "name": "python3"
  },
  "language_info": {
   "codemirror_mode": {
    "name": "ipython",
    "version": 3
   },
   "file_extension": ".py",
   "mimetype": "text/x-python",
   "name": "python",
   "nbconvert_exporter": "python",
   "pygments_lexer": "ipython3",
   "version": "3.10.2"
  }
 },
 "nbformat": 4,
 "nbformat_minor": 2
}
